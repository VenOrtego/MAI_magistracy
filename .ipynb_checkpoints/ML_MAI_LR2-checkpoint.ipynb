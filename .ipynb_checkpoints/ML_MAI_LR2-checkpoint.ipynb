{
 "cells": [
  {
   "cell_type": "markdown",
   "id": "35e6f9d3-bf40-47cc-a56e-591f71d4dd27",
   "metadata": {},
   "source": [
    "# <center>Домашнее задание №2</center>\n",
    "\n",
    "## Для произвольного набора данных:\n",
    "### 1. Построить несколько алгоритмов классификации (лог. рег., kNN, SVM) и для каждого из них построить кривые обучения. Сделать выводы о качестве модели и выборки.\n",
    "### 2. Для одного из алгоритмов сделать поиск двух (любых) параметров по двумерной сетке (случайной или детерминированной). Сделать визуализацию сетки."
   ]
  },
  {
   "cell_type": "code",
   "execution_count": 1,
   "id": "4a228b99-76f1-4e5a-bf7d-ff3ea1471430",
   "metadata": {},
   "outputs": [],
   "source": [
    "import pandas as pd\n",
    "import numpy as np\n",
    "from sklearn.metrics import classification_report, confusion_matrix\n",
    "from sklearn.model_selection import train_test_split\n",
    "from sklearn.model_selection import learning_curve\n",
    "from sklearn import preprocessing\n",
    "\n",
    "from sklearn.linear_model import LogisticRegression\n",
    "\n",
    "from sklearn.neighbors import KNeighborsClassifier\n",
    "\n",
    "from sklearn.svm import SVC\n",
    "\n",
    "import seaborn as sns\n",
    "import matplotlib.pyplot as plt\n",
    "\n",
    "from sklearn.model_selection import ShuffleSplit"
   ]
  },
  {
   "cell_type": "markdown",
   "id": "98e13bc1-e18b-4dff-90a4-d8ea5298f3e9",
   "metadata": {},
   "source": [
    "### Загружаем датасет классификации риса"
   ]
  },
  {
   "cell_type": "code",
   "execution_count": 2,
   "id": "1a2b5951-26e8-421e-a183-9d07a56258b6",
   "metadata": {},
   "outputs": [],
   "source": [
    "rice = pd.read_csv('riceClassification.csv')"
   ]
  },
  {
   "cell_type": "code",
   "execution_count": 3,
   "id": "947a836f-98a7-4d3f-b1ff-5042dd8c106d",
   "metadata": {},
   "outputs": [
    {
     "data": {
      "text/html": [
       "<div>\n",
       "<style scoped>\n",
       "    .dataframe tbody tr th:only-of-type {\n",
       "        vertical-align: middle;\n",
       "    }\n",
       "\n",
       "    .dataframe tbody tr th {\n",
       "        vertical-align: top;\n",
       "    }\n",
       "\n",
       "    .dataframe thead th {\n",
       "        text-align: right;\n",
       "    }\n",
       "</style>\n",
       "<table border=\"1\" class=\"dataframe\">\n",
       "  <thead>\n",
       "    <tr style=\"text-align: right;\">\n",
       "      <th></th>\n",
       "      <th>id</th>\n",
       "      <th>Area</th>\n",
       "      <th>MajorAxisLength</th>\n",
       "      <th>MinorAxisLength</th>\n",
       "      <th>Eccentricity</th>\n",
       "      <th>ConvexArea</th>\n",
       "      <th>EquivDiameter</th>\n",
       "      <th>Extent</th>\n",
       "      <th>Perimeter</th>\n",
       "      <th>Roundness</th>\n",
       "      <th>AspectRation</th>\n",
       "      <th>Class</th>\n",
       "    </tr>\n",
       "  </thead>\n",
       "  <tbody>\n",
       "    <tr>\n",
       "      <th>0</th>\n",
       "      <td>1</td>\n",
       "      <td>4537</td>\n",
       "      <td>92.229316</td>\n",
       "      <td>64.012769</td>\n",
       "      <td>0.719916</td>\n",
       "      <td>4677</td>\n",
       "      <td>76.004525</td>\n",
       "      <td>0.657536</td>\n",
       "      <td>273.085</td>\n",
       "      <td>0.764510</td>\n",
       "      <td>1.440796</td>\n",
       "      <td>1</td>\n",
       "    </tr>\n",
       "    <tr>\n",
       "      <th>1</th>\n",
       "      <td>2</td>\n",
       "      <td>2872</td>\n",
       "      <td>74.691881</td>\n",
       "      <td>51.400454</td>\n",
       "      <td>0.725553</td>\n",
       "      <td>3015</td>\n",
       "      <td>60.471018</td>\n",
       "      <td>0.713009</td>\n",
       "      <td>208.317</td>\n",
       "      <td>0.831658</td>\n",
       "      <td>1.453137</td>\n",
       "      <td>1</td>\n",
       "    </tr>\n",
       "    <tr>\n",
       "      <th>2</th>\n",
       "      <td>3</td>\n",
       "      <td>3048</td>\n",
       "      <td>76.293164</td>\n",
       "      <td>52.043491</td>\n",
       "      <td>0.731211</td>\n",
       "      <td>3132</td>\n",
       "      <td>62.296341</td>\n",
       "      <td>0.759153</td>\n",
       "      <td>210.012</td>\n",
       "      <td>0.868434</td>\n",
       "      <td>1.465950</td>\n",
       "      <td>1</td>\n",
       "    </tr>\n",
       "    <tr>\n",
       "      <th>3</th>\n",
       "      <td>4</td>\n",
       "      <td>3073</td>\n",
       "      <td>77.033628</td>\n",
       "      <td>51.928487</td>\n",
       "      <td>0.738639</td>\n",
       "      <td>3157</td>\n",
       "      <td>62.551300</td>\n",
       "      <td>0.783529</td>\n",
       "      <td>210.657</td>\n",
       "      <td>0.870203</td>\n",
       "      <td>1.483456</td>\n",
       "      <td>1</td>\n",
       "    </tr>\n",
       "    <tr>\n",
       "      <th>4</th>\n",
       "      <td>5</td>\n",
       "      <td>3693</td>\n",
       "      <td>85.124785</td>\n",
       "      <td>56.374021</td>\n",
       "      <td>0.749282</td>\n",
       "      <td>3802</td>\n",
       "      <td>68.571668</td>\n",
       "      <td>0.769375</td>\n",
       "      <td>230.332</td>\n",
       "      <td>0.874743</td>\n",
       "      <td>1.510000</td>\n",
       "      <td>1</td>\n",
       "    </tr>\n",
       "    <tr>\n",
       "      <th>...</th>\n",
       "      <td>...</td>\n",
       "      <td>...</td>\n",
       "      <td>...</td>\n",
       "      <td>...</td>\n",
       "      <td>...</td>\n",
       "      <td>...</td>\n",
       "      <td>...</td>\n",
       "      <td>...</td>\n",
       "      <td>...</td>\n",
       "      <td>...</td>\n",
       "      <td>...</td>\n",
       "      <td>...</td>\n",
       "    </tr>\n",
       "    <tr>\n",
       "      <th>18180</th>\n",
       "      <td>18181</td>\n",
       "      <td>5853</td>\n",
       "      <td>148.624571</td>\n",
       "      <td>51.029281</td>\n",
       "      <td>0.939210</td>\n",
       "      <td>6008</td>\n",
       "      <td>86.326537</td>\n",
       "      <td>0.498594</td>\n",
       "      <td>332.960</td>\n",
       "      <td>0.663444</td>\n",
       "      <td>2.912535</td>\n",
       "      <td>0</td>\n",
       "    </tr>\n",
       "    <tr>\n",
       "      <th>18181</th>\n",
       "      <td>18182</td>\n",
       "      <td>7585</td>\n",
       "      <td>169.593996</td>\n",
       "      <td>58.141659</td>\n",
       "      <td>0.939398</td>\n",
       "      <td>7806</td>\n",
       "      <td>98.272692</td>\n",
       "      <td>0.647461</td>\n",
       "      <td>385.506</td>\n",
       "      <td>0.641362</td>\n",
       "      <td>2.916910</td>\n",
       "      <td>0</td>\n",
       "    </tr>\n",
       "    <tr>\n",
       "      <th>18182</th>\n",
       "      <td>18183</td>\n",
       "      <td>6365</td>\n",
       "      <td>154.777085</td>\n",
       "      <td>52.908085</td>\n",
       "      <td>0.939760</td>\n",
       "      <td>6531</td>\n",
       "      <td>90.023162</td>\n",
       "      <td>0.561287</td>\n",
       "      <td>342.253</td>\n",
       "      <td>0.682832</td>\n",
       "      <td>2.925396</td>\n",
       "      <td>0</td>\n",
       "    </tr>\n",
       "    <tr>\n",
       "      <th>18183</th>\n",
       "      <td>18184</td>\n",
       "      <td>5960</td>\n",
       "      <td>151.397924</td>\n",
       "      <td>51.474600</td>\n",
       "      <td>0.940427</td>\n",
       "      <td>6189</td>\n",
       "      <td>87.112041</td>\n",
       "      <td>0.492399</td>\n",
       "      <td>343.371</td>\n",
       "      <td>0.635227</td>\n",
       "      <td>2.941216</td>\n",
       "      <td>0</td>\n",
       "    </tr>\n",
       "    <tr>\n",
       "      <th>18184</th>\n",
       "      <td>18185</td>\n",
       "      <td>6134</td>\n",
       "      <td>153.081981</td>\n",
       "      <td>51.590606</td>\n",
       "      <td>0.941500</td>\n",
       "      <td>6283</td>\n",
       "      <td>88.374495</td>\n",
       "      <td>0.489975</td>\n",
       "      <td>338.613</td>\n",
       "      <td>0.672274</td>\n",
       "      <td>2.967245</td>\n",
       "      <td>0</td>\n",
       "    </tr>\n",
       "  </tbody>\n",
       "</table>\n",
       "<p>18185 rows × 12 columns</p>\n",
       "</div>"
      ],
      "text/plain": [
       "          id  Area  MajorAxisLength  MinorAxisLength  Eccentricity  \\\n",
       "0          1  4537        92.229316        64.012769      0.719916   \n",
       "1          2  2872        74.691881        51.400454      0.725553   \n",
       "2          3  3048        76.293164        52.043491      0.731211   \n",
       "3          4  3073        77.033628        51.928487      0.738639   \n",
       "4          5  3693        85.124785        56.374021      0.749282   \n",
       "...      ...   ...              ...              ...           ...   \n",
       "18180  18181  5853       148.624571        51.029281      0.939210   \n",
       "18181  18182  7585       169.593996        58.141659      0.939398   \n",
       "18182  18183  6365       154.777085        52.908085      0.939760   \n",
       "18183  18184  5960       151.397924        51.474600      0.940427   \n",
       "18184  18185  6134       153.081981        51.590606      0.941500   \n",
       "\n",
       "       ConvexArea  EquivDiameter    Extent  Perimeter  Roundness  \\\n",
       "0            4677      76.004525  0.657536    273.085   0.764510   \n",
       "1            3015      60.471018  0.713009    208.317   0.831658   \n",
       "2            3132      62.296341  0.759153    210.012   0.868434   \n",
       "3            3157      62.551300  0.783529    210.657   0.870203   \n",
       "4            3802      68.571668  0.769375    230.332   0.874743   \n",
       "...           ...            ...       ...        ...        ...   \n",
       "18180        6008      86.326537  0.498594    332.960   0.663444   \n",
       "18181        7806      98.272692  0.647461    385.506   0.641362   \n",
       "18182        6531      90.023162  0.561287    342.253   0.682832   \n",
       "18183        6189      87.112041  0.492399    343.371   0.635227   \n",
       "18184        6283      88.374495  0.489975    338.613   0.672274   \n",
       "\n",
       "       AspectRation  Class  \n",
       "0          1.440796      1  \n",
       "1          1.453137      1  \n",
       "2          1.465950      1  \n",
       "3          1.483456      1  \n",
       "4          1.510000      1  \n",
       "...             ...    ...  \n",
       "18180      2.912535      0  \n",
       "18181      2.916910      0  \n",
       "18182      2.925396      0  \n",
       "18183      2.941216      0  \n",
       "18184      2.967245      0  \n",
       "\n",
       "[18185 rows x 12 columns]"
      ]
     },
     "execution_count": 3,
     "metadata": {},
     "output_type": "execute_result"
    }
   ],
   "source": [
    "rice"
   ]
  },
  {
   "cell_type": "markdown",
   "id": "1350b73a-9816-4d5f-951c-acc4f35fcbe9",
   "metadata": {},
   "source": [
    "### Делим на признаки X и целевую переменную y"
   ]
  },
  {
   "cell_type": "code",
   "execution_count": 4,
   "id": "36e34ded-9c2e-4717-9986-0d806bb644b2",
   "metadata": {},
   "outputs": [],
   "source": [
    "X = rice.drop(['id', 'Class'], axis=1)\n",
    "y = rice['Class']"
   ]
  },
  {
   "cell_type": "code",
   "execution_count": 5,
   "id": "b795b663-0823-4c79-9063-a5a9cfda115f",
   "metadata": {},
   "outputs": [
    {
     "data": {
      "text/html": [
       "<div>\n",
       "<style scoped>\n",
       "    .dataframe tbody tr th:only-of-type {\n",
       "        vertical-align: middle;\n",
       "    }\n",
       "\n",
       "    .dataframe tbody tr th {\n",
       "        vertical-align: top;\n",
       "    }\n",
       "\n",
       "    .dataframe thead th {\n",
       "        text-align: right;\n",
       "    }\n",
       "</style>\n",
       "<table border=\"1\" class=\"dataframe\">\n",
       "  <thead>\n",
       "    <tr style=\"text-align: right;\">\n",
       "      <th></th>\n",
       "      <th>Area</th>\n",
       "      <th>MajorAxisLength</th>\n",
       "      <th>MinorAxisLength</th>\n",
       "      <th>Eccentricity</th>\n",
       "      <th>ConvexArea</th>\n",
       "      <th>EquivDiameter</th>\n",
       "      <th>Extent</th>\n",
       "      <th>Perimeter</th>\n",
       "      <th>Roundness</th>\n",
       "      <th>AspectRation</th>\n",
       "    </tr>\n",
       "  </thead>\n",
       "  <tbody>\n",
       "    <tr>\n",
       "      <th>0</th>\n",
       "      <td>4537</td>\n",
       "      <td>92.229316</td>\n",
       "      <td>64.012769</td>\n",
       "      <td>0.719916</td>\n",
       "      <td>4677</td>\n",
       "      <td>76.004525</td>\n",
       "      <td>0.657536</td>\n",
       "      <td>273.085</td>\n",
       "      <td>0.764510</td>\n",
       "      <td>1.440796</td>\n",
       "    </tr>\n",
       "    <tr>\n",
       "      <th>1</th>\n",
       "      <td>2872</td>\n",
       "      <td>74.691881</td>\n",
       "      <td>51.400454</td>\n",
       "      <td>0.725553</td>\n",
       "      <td>3015</td>\n",
       "      <td>60.471018</td>\n",
       "      <td>0.713009</td>\n",
       "      <td>208.317</td>\n",
       "      <td>0.831658</td>\n",
       "      <td>1.453137</td>\n",
       "    </tr>\n",
       "    <tr>\n",
       "      <th>2</th>\n",
       "      <td>3048</td>\n",
       "      <td>76.293164</td>\n",
       "      <td>52.043491</td>\n",
       "      <td>0.731211</td>\n",
       "      <td>3132</td>\n",
       "      <td>62.296341</td>\n",
       "      <td>0.759153</td>\n",
       "      <td>210.012</td>\n",
       "      <td>0.868434</td>\n",
       "      <td>1.465950</td>\n",
       "    </tr>\n",
       "    <tr>\n",
       "      <th>3</th>\n",
       "      <td>3073</td>\n",
       "      <td>77.033628</td>\n",
       "      <td>51.928487</td>\n",
       "      <td>0.738639</td>\n",
       "      <td>3157</td>\n",
       "      <td>62.551300</td>\n",
       "      <td>0.783529</td>\n",
       "      <td>210.657</td>\n",
       "      <td>0.870203</td>\n",
       "      <td>1.483456</td>\n",
       "    </tr>\n",
       "    <tr>\n",
       "      <th>4</th>\n",
       "      <td>3693</td>\n",
       "      <td>85.124785</td>\n",
       "      <td>56.374021</td>\n",
       "      <td>0.749282</td>\n",
       "      <td>3802</td>\n",
       "      <td>68.571668</td>\n",
       "      <td>0.769375</td>\n",
       "      <td>230.332</td>\n",
       "      <td>0.874743</td>\n",
       "      <td>1.510000</td>\n",
       "    </tr>\n",
       "    <tr>\n",
       "      <th>...</th>\n",
       "      <td>...</td>\n",
       "      <td>...</td>\n",
       "      <td>...</td>\n",
       "      <td>...</td>\n",
       "      <td>...</td>\n",
       "      <td>...</td>\n",
       "      <td>...</td>\n",
       "      <td>...</td>\n",
       "      <td>...</td>\n",
       "      <td>...</td>\n",
       "    </tr>\n",
       "    <tr>\n",
       "      <th>18180</th>\n",
       "      <td>5853</td>\n",
       "      <td>148.624571</td>\n",
       "      <td>51.029281</td>\n",
       "      <td>0.939210</td>\n",
       "      <td>6008</td>\n",
       "      <td>86.326537</td>\n",
       "      <td>0.498594</td>\n",
       "      <td>332.960</td>\n",
       "      <td>0.663444</td>\n",
       "      <td>2.912535</td>\n",
       "    </tr>\n",
       "    <tr>\n",
       "      <th>18181</th>\n",
       "      <td>7585</td>\n",
       "      <td>169.593996</td>\n",
       "      <td>58.141659</td>\n",
       "      <td>0.939398</td>\n",
       "      <td>7806</td>\n",
       "      <td>98.272692</td>\n",
       "      <td>0.647461</td>\n",
       "      <td>385.506</td>\n",
       "      <td>0.641362</td>\n",
       "      <td>2.916910</td>\n",
       "    </tr>\n",
       "    <tr>\n",
       "      <th>18182</th>\n",
       "      <td>6365</td>\n",
       "      <td>154.777085</td>\n",
       "      <td>52.908085</td>\n",
       "      <td>0.939760</td>\n",
       "      <td>6531</td>\n",
       "      <td>90.023162</td>\n",
       "      <td>0.561287</td>\n",
       "      <td>342.253</td>\n",
       "      <td>0.682832</td>\n",
       "      <td>2.925396</td>\n",
       "    </tr>\n",
       "    <tr>\n",
       "      <th>18183</th>\n",
       "      <td>5960</td>\n",
       "      <td>151.397924</td>\n",
       "      <td>51.474600</td>\n",
       "      <td>0.940427</td>\n",
       "      <td>6189</td>\n",
       "      <td>87.112041</td>\n",
       "      <td>0.492399</td>\n",
       "      <td>343.371</td>\n",
       "      <td>0.635227</td>\n",
       "      <td>2.941216</td>\n",
       "    </tr>\n",
       "    <tr>\n",
       "      <th>18184</th>\n",
       "      <td>6134</td>\n",
       "      <td>153.081981</td>\n",
       "      <td>51.590606</td>\n",
       "      <td>0.941500</td>\n",
       "      <td>6283</td>\n",
       "      <td>88.374495</td>\n",
       "      <td>0.489975</td>\n",
       "      <td>338.613</td>\n",
       "      <td>0.672274</td>\n",
       "      <td>2.967245</td>\n",
       "    </tr>\n",
       "  </tbody>\n",
       "</table>\n",
       "<p>18185 rows × 10 columns</p>\n",
       "</div>"
      ],
      "text/plain": [
       "       Area  MajorAxisLength  MinorAxisLength  Eccentricity  ConvexArea  \\\n",
       "0      4537        92.229316        64.012769      0.719916        4677   \n",
       "1      2872        74.691881        51.400454      0.725553        3015   \n",
       "2      3048        76.293164        52.043491      0.731211        3132   \n",
       "3      3073        77.033628        51.928487      0.738639        3157   \n",
       "4      3693        85.124785        56.374021      0.749282        3802   \n",
       "...     ...              ...              ...           ...         ...   \n",
       "18180  5853       148.624571        51.029281      0.939210        6008   \n",
       "18181  7585       169.593996        58.141659      0.939398        7806   \n",
       "18182  6365       154.777085        52.908085      0.939760        6531   \n",
       "18183  5960       151.397924        51.474600      0.940427        6189   \n",
       "18184  6134       153.081981        51.590606      0.941500        6283   \n",
       "\n",
       "       EquivDiameter    Extent  Perimeter  Roundness  AspectRation  \n",
       "0          76.004525  0.657536    273.085   0.764510      1.440796  \n",
       "1          60.471018  0.713009    208.317   0.831658      1.453137  \n",
       "2          62.296341  0.759153    210.012   0.868434      1.465950  \n",
       "3          62.551300  0.783529    210.657   0.870203      1.483456  \n",
       "4          68.571668  0.769375    230.332   0.874743      1.510000  \n",
       "...              ...       ...        ...        ...           ...  \n",
       "18180      86.326537  0.498594    332.960   0.663444      2.912535  \n",
       "18181      98.272692  0.647461    385.506   0.641362      2.916910  \n",
       "18182      90.023162  0.561287    342.253   0.682832      2.925396  \n",
       "18183      87.112041  0.492399    343.371   0.635227      2.941216  \n",
       "18184      88.374495  0.489975    338.613   0.672274      2.967245  \n",
       "\n",
       "[18185 rows x 10 columns]"
      ]
     },
     "execution_count": 5,
     "metadata": {},
     "output_type": "execute_result"
    }
   ],
   "source": [
    "X"
   ]
  },
  {
   "cell_type": "markdown",
   "id": "8bdd71ee-01d7-4ef2-b2e8-ef0827218bf5",
   "metadata": {},
   "source": [
    "### Предварительно делим выборку на обучающую и тестовую, а затем нормируем их"
   ]
  },
  {
   "cell_type": "code",
   "execution_count": 6,
   "id": "4dacd205-0ed4-42a4-a64d-f3f55b40ebc5",
   "metadata": {},
   "outputs": [],
   "source": [
    "X_train, X_test, y_train, y_test = train_test_split(X, y, test_size=0.33, random_state=42)"
   ]
  },
  {
   "cell_type": "code",
   "execution_count": 7,
   "id": "8d643ad1-0b79-4cb9-8761-e34c537db7c5",
   "metadata": {},
   "outputs": [],
   "source": [
    "scaler = preprocessing.StandardScaler()\n",
    "scaler = scaler.fit(X)\n",
    "X_scaled = scaler.transform(X)\n",
    "X_train_norm = scaler.transform(X_train)\n",
    "X_test_norm = scaler.transform(X_test)"
   ]
  },
  {
   "cell_type": "markdown",
   "id": "a66181f2-546c-4ef8-a342-4bbf31382f44",
   "metadata": {},
   "source": [
    "## 1.1 Логистическая модель"
   ]
  },
  {
   "cell_type": "code",
   "execution_count": 10,
   "id": "271993d3-c344-4534-8187-c39dc3e55c78",
   "metadata": {},
   "outputs": [],
   "source": [
    "log_reg = LogisticRegression()"
   ]
  },
  {
   "cell_type": "code",
   "execution_count": 11,
   "id": "438832dd-5e84-43a6-a610-691f706d21e8",
   "metadata": {},
   "outputs": [
    {
     "data": {
      "text/plain": [
       "LogisticRegression()"
      ]
     },
     "execution_count": 11,
     "metadata": {},
     "output_type": "execute_result"
    }
   ],
   "source": [
    "log_reg.fit(X_train_norm, y_train)"
   ]
  },
  {
   "cell_type": "code",
   "execution_count": 12,
   "id": "2c3dccc1-ae92-43f7-ab6c-ec217b864f84",
   "metadata": {},
   "outputs": [],
   "source": [
    "log_pred = log_reg.predict(X_test_norm)"
   ]
  },
  {
   "cell_type": "code",
   "execution_count": 13,
   "id": "73eef04f-28c4-4070-bb3c-d74d55ae57c5",
   "metadata": {},
   "outputs": [],
   "source": [
    "cf_matrix = confusion_matrix(y_test, log_pred)"
   ]
  },
  {
   "cell_type": "code",
   "execution_count": 14,
   "id": "103500dd-5007-4aed-8ac3-f66c858a7f9d",
   "metadata": {},
   "outputs": [
    {
     "name": "stdout",
     "output_type": "stream",
     "text": [
      "[[2678   33]\n",
      " [  22 3269]]\n",
      "              precision    recall  f1-score   support\n",
      "\n",
      "           0       0.99      0.99      0.99      2711\n",
      "           1       0.99      0.99      0.99      3291\n",
      "\n",
      "    accuracy                           0.99      6002\n",
      "   macro avg       0.99      0.99      0.99      6002\n",
      "weighted avg       0.99      0.99      0.99      6002\n",
      "\n"
     ]
    }
   ],
   "source": [
    "print(cf_matrix)\n",
    "print(classification_report(y_test, log_pred))"
   ]
  },
  {
   "cell_type": "markdown",
   "id": "106b8761-3817-4dd6-8aca-de36297aed14",
   "metadata": {},
   "source": [
    "### Качество классификации достаточно хорошее"
   ]
  },
  {
   "cell_type": "code",
   "execution_count": 15,
   "id": "d27939f1-a047-4c8d-b872-88b1250ec3c9",
   "metadata": {},
   "outputs": [
    {
     "data": {
      "text/plain": [
       "<AxesSubplot:>"
      ]
     },
     "execution_count": 15,
     "metadata": {},
     "output_type": "execute_result"
    },
    {
     "data": {
      "image/png": "[encoded data removed]",
      "text/plain": [
       "<Figure size 432x288 with 2 Axes>"
      ]
     },
     "metadata": {
      "needs_background": "light"
     },
     "output_type": "display_data"
    }
   ],
   "source": [
    "sns.heatmap(cf_matrix/np.sum(cf_matrix), annot=True, fmt='.2%', cmap='Blues')"
   ]
  },
  {
   "cell_type": "markdown",
   "id": "c6d30cfe-686a-40fe-a7c3-44d58e8ce765",
   "metadata": {},
   "source": [
    "### Построим кривувю обучения и валидационную кривую с мерой качества Accuracy"
   ]
  },
  {
   "cell_type": "code",
   "execution_count": 41,
   "id": "c1065a57-3dcf-48b9-a83c-6928dae7ed71",
   "metadata": {},
   "outputs": [],
   "source": [
    "log_reg_lc = LogisticRegression()\n",
    "cv = ShuffleSplit(n_splits=10, test_size=0.2, random_state=42)\n",
    "#cv = 10\n",
    "train_sizes, train_scores, test_scores = learning_curve(log_reg_lc, X_scaled, y, cv=cv, train_sizes=np.linspace(0.1, 1., 10), shuffle=False, scoring='accuracy')\n",
    "train_scores_mean = np.mean(train_scores, axis=1)\n",
    "test_scores_mean = np.mean(test_scores, axis=1)\n",
    "train_scores_std = np.std(train_scores, axis=1)\n",
    "test_scores_std = np.std(test_scores, axis=1)"
   ]
  },
  {
   "cell_type": "code",
   "execution_count": 44,
   "id": "ecdeddb1-561d-4a67-8544-1be5a53b954b",
   "metadata": {},
   "outputs": [
    {
     "data": {
      "image/png": "[encoded data removed]",
      "text/plain": [
       "<Figure size 432x288 with 1 Axes>"
      ]
     },
     "metadata": {
      "needs_background": "light"
     },
     "output_type": "display_data"
    }
   ],
   "source": [
    "plt.fill_between(train_sizes, train_scores_mean - train_scores_std, train_scores_mean + train_scores_std, alpha=0.4, color=\"r\",)\n",
    "plt.fill_between(train_sizes, test_scores_mean - test_scores_std, test_scores_mean + test_scores_std, alpha=0.4, color=\"g\",)\n",
    "plt.plot(train_sizes, train_scores_mean, \"o-\", color=\"r\", label=\"Training score\")\n",
    "plt.plot(train_sizes, test_scores_mean, \"o-\", color=\"g\", label=\"Cross-validation score\")\n",
    "plt.legend(loc=\"best\")\n",
    "plt.show()"
   ]
  },
  {
   "cell_type": "code",
   "execution_count": null,
   "id": "eca0fb02-8e69-412c-b973-e3e4c09ee71c",
   "metadata": {},
   "outputs": [],
   "source": []
  },
  {
   "cell_type": "markdown",
   "id": "7bb0b0df-4f0d-4048-af79-3d040c0db9f3",
   "metadata": {},
   "source": [
    "## 1.2 K ближайших соседей"
   ]
  },
  {
   "cell_type": "code",
   "execution_count": 33,
   "id": "347e5e4b-023d-46b6-8e7f-f907c94d18d7",
   "metadata": {},
   "outputs": [],
   "source": [
    "nbrs = KNeighborsClassifier(n_neighbors=3)"
   ]
  },
  {
   "cell_type": "code",
   "execution_count": 34,
   "id": "f37e188a-21d9-4726-9e01-c193eb880ea1",
   "metadata": {},
   "outputs": [
    {
     "data": {
      "text/plain": [
       "KNeighborsClassifier(n_neighbors=3)"
      ]
     },
     "execution_count": 34,
     "metadata": {},
     "output_type": "execute_result"
    }
   ],
   "source": [
    "nbrs.fit(X_train_norm, y_train)"
   ]
  },
  {
   "cell_type": "code",
   "execution_count": 35,
   "id": "09133395-d9fc-475c-bd53-d84a607122d2",
   "metadata": {},
   "outputs": [],
   "source": [
    "nbrs_pred = nbrs.predict(X_test_norm)"
   ]
  },
  {
   "cell_type": "code",
   "execution_count": 36,
   "id": "99479606-c609-4358-9fd7-453495f3622d",
   "metadata": {},
   "outputs": [],
   "source": [
    "cf_matrix2 = confusion_matrix(y_test, nbrs_pred)"
   ]
  },
  {
   "cell_type": "code",
   "execution_count": 37,
   "id": "9425f26d-d76e-4862-b0e9-95565c87367c",
   "metadata": {},
   "outputs": [
    {
     "name": "stdout",
     "output_type": "stream",
     "text": [
      "[[2680   31]\n",
      " [  39 3252]]\n",
      "              precision    recall  f1-score   support\n",
      "\n",
      "           0       0.99      0.99      0.99      2711\n",
      "           1       0.99      0.99      0.99      3291\n",
      "\n",
      "    accuracy                           0.99      6002\n",
      "   macro avg       0.99      0.99      0.99      6002\n",
      "weighted avg       0.99      0.99      0.99      6002\n",
      "\n"
     ]
    }
   ],
   "source": [
    "print(cf_matrix2)\n",
    "print(classification_report(y_test, nbrs_pred))"
   ]
  },
  {
   "cell_type": "markdown",
   "id": "d39ea09b-b7eb-43e2-9916-28b0e7ff819e",
   "metadata": {},
   "source": [
    "### Качество классификации чуть хуже, чем у логистической модели, но все равно хорошее"
   ]
  },
  {
   "cell_type": "code",
   "execution_count": 38,
   "id": "a354a4cd-d699-40a4-bd2d-064938e5749c",
   "metadata": {},
   "outputs": [
    {
     "data": {
      "text/plain": [
       "<AxesSubplot:>"
      ]
     },
     "execution_count": 38,
     "metadata": {},
     "output_type": "execute_result"
    },
    {
     "data": {
      "image/png": "[encoded data removed]",
      "text/plain": [
       "<Figure size 432x288 with 2 Axes>"
      ]
     },
     "metadata": {
      "needs_background": "light"
     },
     "output_type": "display_data"
    }
   ],
   "source": [
    "sns.heatmap(cf_matrix2/np.sum(cf_matrix2), annot=True, fmt='.2%', cmap='Blues')"
   ]
  },
  {
   "cell_type": "markdown",
   "id": "a93374c4-acf3-4216-aa17-289c4765993e",
   "metadata": {},
   "source": [
    "### Кривые обучения и валидации имеют гораздо меньшее стандартное отклонение (std), чем у логистической модели"
   ]
  },
  {
   "cell_type": "code",
   "execution_count": 45,
   "id": "558bced1-3f7b-4e66-846f-0223331d0b83",
   "metadata": {},
   "outputs": [
    {
     "data": {
      "image/png": "[encoded data removed]",
      "text/plain": [
       "<Figure size 432x288 with 1 Axes>"
      ]
     },
     "metadata": {
      "needs_background": "light"
     },
     "output_type": "display_data"
    }
   ],
   "source": [
    "nbrs_lc = KNeighborsClassifier()\n",
    "cv = ShuffleSplit(n_splits=10, test_size=0.2, random_state=42)\n",
    "#cv = 10\n",
    "train_sizes, train_scores, test_scores = learning_curve(nbrs_lc, X_scaled, y, cv=cv, train_sizes=np.linspace(.01, 1., 10), shuffle=False, scoring='accuracy')\n",
    "train_scores_mean = np.mean(train_scores, axis=1)\n",
    "test_scores_mean = np.mean(test_scores, axis=1)\n",
    "train_scores_std = np.std(train_scores, axis=1)\n",
    "test_scores_std = np.std(test_scores, axis=1)\n",
    "plt.fill_between(train_sizes, train_scores_mean - train_scores_std, train_scores_mean + train_scores_std, alpha=0.4, color=\"r\",)\n",
    "plt.fill_between(train_sizes, test_scores_mean - test_scores_std, test_scores_mean + test_scores_std, alpha=0.4, color=\"g\",)\n",
    "plt.plot(train_sizes, train_scores_mean, \"o-\", color=\"r\", label=\"Training score\")\n",
    "plt.plot(train_sizes, test_scores_mean, \"o-\", color=\"g\", label=\"Cross-validation score\")\n",
    "plt.legend(loc=\"best\")\n",
    "plt.show()"
   ]
  },
  {
   "cell_type": "code",
   "execution_count": null,
   "id": "8db5349e-225e-4602-ac3b-61bed3993f4c",
   "metadata": {},
   "outputs": [],
   "source": []
  },
  {
   "cell_type": "markdown",
   "id": "28b5379e-247e-4811-9f09-3dbbd3ab4dd9",
   "metadata": {},
   "source": [
    "## 1.3 SVC"
   ]
  },
  {
   "cell_type": "code",
   "execution_count": 46,
   "id": "a2be447b-581e-438e-9247-f607a7d30c86",
   "metadata": {},
   "outputs": [
    {
     "data": {
      "text/plain": [
       "SVC()"
      ]
     },
     "execution_count": 46,
     "metadata": {},
     "output_type": "execute_result"
    }
   ],
   "source": [
    "svc = SVC()\n",
    "svc.fit(X_train_norm, y_train)"
   ]
  },
  {
   "cell_type": "code",
   "execution_count": 47,
   "id": "27d49242-00b1-466a-a4e5-004397ab9775",
   "metadata": {},
   "outputs": [],
   "source": [
    "svc_pred = svc.predict(X_test_norm)"
   ]
  },
  {
   "cell_type": "code",
   "execution_count": 48,
   "id": "617f5b1b-f5c5-45e8-89b0-55a20a2f36bd",
   "metadata": {},
   "outputs": [
    {
     "name": "stdout",
     "output_type": "stream",
     "text": [
      "[[2677   34]\n",
      " [  24 3267]]\n",
      "              precision    recall  f1-score   support\n",
      "\n",
      "           0       0.99      0.99      0.99      2711\n",
      "           1       0.99      0.99      0.99      3291\n",
      "\n",
      "    accuracy                           0.99      6002\n",
      "   macro avg       0.99      0.99      0.99      6002\n",
      "weighted avg       0.99      0.99      0.99      6002\n",
      "\n"
     ]
    }
   ],
   "source": [
    "cf_matrix3 = confusion_matrix(y_test, svc_pred)\n",
    "print(cf_matrix3)\n",
    "print(classification_report(y_test, svc_pred))"
   ]
  },
  {
   "cell_type": "markdown",
   "id": "bf1a6b39-89f2-4a7d-810f-b0655e4691fe",
   "metadata": {},
   "source": [
    "### Качестов классификации хуже, чем у логистической модели, но лучше, чем у модели K ближайших соседей"
   ]
  },
  {
   "cell_type": "code",
   "execution_count": 49,
   "id": "4456d338-b57a-48c2-a747-265fa7298509",
   "metadata": {},
   "outputs": [
    {
     "data": {
      "text/plain": [
       "<AxesSubplot:>"
      ]
     },
     "execution_count": 49,
     "metadata": {},
     "output_type": "execute_result"
    },
    {
     "data": {
      "image/png": "[encoded data removed]",
      "text/plain": [
       "<Figure size 432x288 with 2 Axes>"
      ]
     },
     "metadata": {
      "needs_background": "light"
     },
     "output_type": "display_data"
    }
   ],
   "source": [
    "sns.heatmap(cf_matrix3/np.sum(cf_matrix3), annot=True, fmt='.2%', cmap='Blues')"
   ]
  },
  {
   "cell_type": "markdown",
   "id": "c40a84b6-2715-4287-b3d4-0dc3dd33420d",
   "metadata": {},
   "source": [
    "### Кривые обучения и валидации также показывают, что качество хорошее"
   ]
  },
  {
   "cell_type": "code",
   "execution_count": 51,
   "id": "6a5858b6-d0bf-4d8f-97f0-a8c62c031cdd",
   "metadata": {},
   "outputs": [
    {
     "data": {
      "image/png": "[encoded data removed]",
      "text/plain": [
       "<Figure size 432x288 with 1 Axes>"
      ]
     },
     "metadata": {
      "needs_background": "light"
     },
     "output_type": "display_data"
    }
   ],
   "source": [
    "svc_lc = SVC()\n",
    "cv = ShuffleSplit(n_splits=10, test_size=0.2, random_state=42)\n",
    "#cv = 10\n",
    "train_sizes, train_scores, test_scores = learning_curve(svc_lc, X_scaled, y, cv=cv, train_sizes=np.linspace(.01, 1., 10), shuffle=False, scoring='accuracy')\n",
    "train_scores_mean = np.mean(train_scores, axis=1)\n",
    "test_scores_mean = np.mean(test_scores, axis=1)\n",
    "train_scores_std = np.std(train_scores, axis=1)\n",
    "test_scores_std = np.std(test_scores, axis=1)\n",
    "plt.fill_between(train_sizes, train_scores_mean - train_scores_std, train_scores_mean + train_scores_std, alpha=0.4, color=\"r\",)\n",
    "plt.fill_between(train_sizes, test_scores_mean - test_scores_std, test_scores_mean + test_scores_std, alpha=0.4, color=\"g\",)\n",
    "plt.plot(train_sizes, train_scores_mean, \"o-\", color=\"r\", label=\"Training score\")\n",
    "plt.plot(train_sizes, test_scores_mean, \"o-\", color=\"g\", label=\"Cross-validation score\")\n",
    "plt.legend(loc=\"best\")\n",
    "plt.show()"
   ]
  },
  {
   "cell_type": "code",
   "execution_count": null,
   "id": "cb37cd3a-0e0a-4c51-b412-a300cc6280de",
   "metadata": {},
   "outputs": [],
   "source": []
  },
  {
   "cell_type": "markdown",
   "id": "75451aca-8f6e-4cd8-afe1-87acd92bd90d",
   "metadata": {},
   "source": [
    "## 2.1 Взглянем на гиперпараметры каждой модели"
   ]
  },
  {
   "cell_type": "code",
   "execution_count": 52,
   "id": "2cdea386-f781-43e9-8ead-1dd81f83a2f3",
   "metadata": {},
   "outputs": [
    {
     "data": {
      "text/plain": [
       "{'C': 1.0,\n",
       " 'class_weight': None,\n",
       " 'dual': False,\n",
       " 'fit_intercept': True,\n",
       " 'intercept_scaling': 1,\n",
       " 'l1_ratio': None,\n",
       " 'max_iter': 100,\n",
       " 'multi_class': 'auto',\n",
       " 'n_jobs': None,\n",
       " 'penalty': 'l2',\n",
       " 'random_state': None,\n",
       " 'solver': 'lbfgs',\n",
       " 'tol': 0.0001,\n",
       " 'verbose': 0,\n",
       " 'warm_start': False}"
      ]
     },
     "execution_count": 52,
     "metadata": {},
     "output_type": "execute_result"
    }
   ],
   "source": [
    "log_reg.get_params()"
   ]
  },
  {
   "cell_type": "code",
   "execution_count": 53,
   "id": "30caab61-a0b0-41b4-bde3-76080760ce2c",
   "metadata": {},
   "outputs": [
    {
     "data": {
      "text/plain": [
       "{'algorithm': 'auto',\n",
       " 'leaf_size': 30,\n",
       " 'metric': 'minkowski',\n",
       " 'metric_params': None,\n",
       " 'n_jobs': None,\n",
       " 'n_neighbors': 3,\n",
       " 'p': 2,\n",
       " 'weights': 'uniform'}"
      ]
     },
     "execution_count": 53,
     "metadata": {},
     "output_type": "execute_result"
    }
   ],
   "source": [
    "nbrs.get_params()"
   ]
  },
  {
   "cell_type": "code",
   "execution_count": 54,
   "id": "8eb9bd1f-4299-43da-ba06-871d296ee851",
   "metadata": {},
   "outputs": [
    {
     "data": {
      "text/plain": [
       "{'C': 1.0,\n",
       " 'break_ties': False,\n",
       " 'cache_size': 200,\n",
       " 'class_weight': None,\n",
       " 'coef0': 0.0,\n",
       " 'decision_function_shape': 'ovr',\n",
       " 'degree': 3,\n",
       " 'gamma': 'scale',\n",
       " 'kernel': 'rbf',\n",
       " 'max_iter': -1,\n",
       " 'probability': False,\n",
       " 'random_state': None,\n",
       " 'shrinking': True,\n",
       " 'tol': 0.001,\n",
       " 'verbose': False}"
      ]
     },
     "execution_count": 54,
     "metadata": {},
     "output_type": "execute_result"
    }
   ],
   "source": [
    "svc.get_params()"
   ]
  },
  {
   "cell_type": "code",
   "execution_count": null,
   "id": "c96d30d5-479d-4cca-aca2-0016ba1e85b2",
   "metadata": {},
   "outputs": [],
   "source": []
  },
  {
   "cell_type": "markdown",
   "id": "d6435d15-d0cd-4bda-a75f-b032771550e3",
   "metadata": {},
   "source": [
    "### Для поиска 2-х оптимальных гиперпараметров была выбрана модель K ближайших соседей\n",
    "### Возьмем такие гиперпараметры, как расстояние (metric) и количесво соседей (n_neighbors)\n",
    "### Детерминированная сетка поиска (GridSearch) будет представлять из себя следующее:\n",
    "  * ### Расстояния:\n",
    "    1. ### Евклидово $$ \\sqrt\\sum_{k=1}^{n} (p_k - q_k)^2 $$\n",
    "    2. ### Манхэттенское $$ \\sum_{k=1}^{n} |p_k - q_k| $$\n",
    "    3. ### Чебышева $$ \\max\\limits_k |p_k - q_k| $$\n",
    "    4. ### Минковского $$ \\left(\\sum_{k=1}^{n} |p_k - q_k|^r \\right)^{1/r} $$\n",
    "  * ### Количество соседей: [1, 15]"
   ]
  },
  {
   "cell_type": "code",
   "execution_count": 55,
   "id": "23fc8249-6483-48f7-85ea-8bdce7443cc6",
   "metadata": {},
   "outputs": [],
   "source": [
    "from sklearn.model_selection import GridSearchCV"
   ]
  },
  {
   "cell_type": "code",
   "execution_count": 56,
   "id": "02ec3bbb-c065-45f1-afb6-63b79ab0bb29",
   "metadata": {},
   "outputs": [],
   "source": [
    "num_nbrs = np.arange(1,15)\n",
    "parameters = {'metric':('euclidean', 'manhattan', 'chebyshev', 'minkowski'), 'n_neighbors':num_nbrs}\n",
    "nbrs_grid = KNeighborsClassifier()\n",
    "grid = GridSearchCV(estimator=nbrs_grid, param_grid=parameters, cv=4)"
   ]
  },
  {
   "cell_type": "code",
   "execution_count": 57,
   "id": "cfffbb26-44d7-4ec0-8d06-10e301bc258c",
   "metadata": {},
   "outputs": [
    {
     "data": {
      "text/plain": [
       "GridSearchCV(cv=4, estimator=KNeighborsClassifier(),\n",
       "             param_grid={'metric': ('euclidean', 'manhattan', 'chebyshev',\n",
       "                                    'minkowski'),\n",
       "                         'n_neighbors': array([ 1,  2,  3,  4,  5,  6,  7,  8,  9, 10, 11, 12, 13, 14])})"
      ]
     },
     "execution_count": 57,
     "metadata": {},
     "output_type": "execute_result"
    }
   ],
   "source": [
    "grid.fit(X_train_norm, y_train)"
   ]
  },
  {
   "cell_type": "code",
   "execution_count": 58,
   "id": "69cd5f31-2bbc-4937-9a6b-62aea4d2c7cb",
   "metadata": {},
   "outputs": [
    {
     "name": "stdout",
     "output_type": "stream",
     "text": [
      "[[0.98333724 0.98218825 0.98727718 0.98719511 0.98785166 0.98834416\n",
      "  0.98891871 0.98875459 0.98908286 0.98908294 0.98859044 0.98875467\n",
      "  0.98883671 0.98875461]\n",
      " [0.9839119  0.98251657 0.98703093 0.98678468 0.98776961 0.98776961\n",
      "  0.98818006 0.98850836 0.98850833 0.98842629 0.98850833 0.98842626\n",
      "  0.98859044 0.98834421]\n",
      " [0.98325522 0.9812034  0.98793381 0.98653862 0.98834419 0.98793384\n",
      "  0.98900086 0.98842634 0.98859049 0.98842631 0.98900092 0.98842626\n",
      "  0.98908294 0.98875464]\n",
      " [0.98333724 0.98218825 0.98727718 0.98719511 0.98785166 0.98834416\n",
      "  0.98891871 0.98875459 0.98908286 0.98908294 0.98859044 0.98875467\n",
      "  0.98883671 0.98875461]]\n"
     ]
    }
   ],
   "source": [
    "result = grid.cv_results_['mean_test_score'].reshape(4, len(num_nbrs))\n",
    "print(result)"
   ]
  },
  {
   "cell_type": "markdown",
   "id": "630b744d-d815-4ea9-9c29-c49622aa14a4",
   "metadata": {},
   "source": [
    "### Выведем лучшие параметры - это Евклидова метрика с 10-ю соседями"
   ]
  },
  {
   "cell_type": "code",
   "execution_count": 59,
   "id": "e1d3308a-20e5-47ea-99c4-6980986f9aa1",
   "metadata": {},
   "outputs": [
    {
     "data": {
      "text/plain": [
       "KNeighborsClassifier(metric='euclidean', n_neighbors=10)"
      ]
     },
     "execution_count": 59,
     "metadata": {},
     "output_type": "execute_result"
    }
   ],
   "source": [
    "grid.best_estimator_"
   ]
  },
  {
   "cell_type": "markdown",
   "id": "3df98c4e-31df-406f-9490-1d7fbe3825c7",
   "metadata": {},
   "source": [
    "### Визуализируем результаты оценки Accuracy на нашей детерминированной сетке в виде тепловой карты "
   ]
  },
  {
   "cell_type": "code",
   "execution_count": 60,
   "id": "36802a0b-e062-4a11-9e06-1d867c2c4dcc",
   "metadata": {},
   "outputs": [
    {
     "data": {
      "image/png": "[encoded data removed]",
      "text/plain": [
       "<Figure size 1296x864 with 1 Axes>"
      ]
     },
     "metadata": {
      "needs_background": "light"
     },
     "output_type": "display_data"
    }
   ],
   "source": [
    "plt.figure(figsize=(18,12))\n",
    "plt.imshow(result, cmap=plt.cm.hot)\n",
    "plt.title('Validation accuracy')\n",
    "plt.xlabel('number of neighbours (k)')\n",
    "plt.ylabel('Metrics')\n",
    "plt.xticks(np.arange(len(num_nbrs)), num_nbrs)\n",
    "plt.yticks(np.arange(4), ['euclidean', 'manhattan', 'chebyshev', 'minkowski'])\n",
    "plt.show()"
   ]
  },
  {
   "cell_type": "markdown",
   "id": "e7c39ac3-81e4-47c7-a35d-09cf207839c9",
   "metadata": {},
   "source": [
    "### Видно, что в целом, независимо от метрики, оценка становится лучше с увеличением числа соседей"
   ]
  },
  {
   "cell_type": "code",
   "execution_count": 61,
   "id": "3afaa5ba-9624-4df3-87c6-9424871997b4",
   "metadata": {},
   "outputs": [
    {
     "data": {
      "text/plain": [
       "{'algorithm': 'auto',\n",
       " 'leaf_size': 30,\n",
       " 'metric': 'minkowski',\n",
       " 'metric_params': None,\n",
       " 'n_jobs': None,\n",
       " 'n_neighbors': 3,\n",
       " 'p': 2,\n",
       " 'weights': 'uniform'}"
      ]
     },
     "execution_count": 61,
     "metadata": {},
     "output_type": "execute_result"
    }
   ],
   "source": [
    "nbrs.get_params()"
   ]
  },
  {
   "cell_type": "markdown",
   "id": "14364335-692a-4e21-a954-afe13b89c880",
   "metadata": {},
   "source": [
    "## 2.2 Создадим модель с найденными оптимальными параметрами (Евклидова метрика, число соседей 10)"
   ]
  },
  {
   "cell_type": "markdown",
   "id": "23639797-095e-460d-b9b6-97a101a10bf8",
   "metadata": {},
   "source": [
    "### Также сразу построим кривые обучения и валидации"
   ]
  },
  {
   "cell_type": "code",
   "execution_count": 74,
   "id": "3ac7beb8-3992-4117-b99f-fde3db92bd3a",
   "metadata": {},
   "outputs": [
    {
     "data": {
      "image/png": "[encoded data removed]",
      "text/plain": [
       "<Figure size 1296x1152 with 1 Axes>"
      ]
     },
     "metadata": {
      "needs_background": "light"
     },
     "output_type": "display_data"
    }
   ],
   "source": [
    "nbrs_lc2 = KNeighborsClassifier(metric='euclidean', n_neighbors=10)\n",
    "cv = ShuffleSplit(n_splits=10, test_size=0.2, random_state=42)\n",
    "#cv = 10\n",
    "train_sizes, train_scores, test_scores = learning_curve(nbrs_lc2, X_scaled, y, cv=cv, train_sizes=np.linspace(.1, 1., 10), shuffle=False, scoring='accuracy')\n",
    "train_scores_mean = np.mean(train_scores, axis=1)\n",
    "test_scores_mean = np.mean(test_scores, axis=1)\n",
    "train_scores_std = np.std(train_scores, axis=1)\n",
    "test_scores_std = np.std(test_scores, axis=1)\n",
    "plt.figure(figsize=(18,16))\n",
    "plt.fill_between(train_sizes, train_scores_mean - train_scores_std, train_scores_mean + train_scores_std, alpha=0.4, color=\"r\",)\n",
    "plt.fill_between(train_sizes, test_scores_mean - test_scores_std, test_scores_mean + test_scores_std, alpha=0.4, color=\"g\",)\n",
    "plt.plot(train_sizes, train_scores_mean, \"o-\", color=\"r\", label=\"Training score\")\n",
    "plt.plot(train_sizes, test_scores_mean, \"o-\", color=\"g\", label=\"Cross-validation score\")\n",
    "\n",
    "train_sizes2, train_scores2, test_scores2 = learning_curve(nbrs_lc, X_scaled, y, cv=cv, train_sizes=np.linspace(.1, 1., 10), shuffle=False, scoring='accuracy')\n",
    "train_scores_mean2 = np.mean(train_scores2, axis=1)\n",
    "test_scores_mean2 = np.mean(test_scores2, axis=1)\n",
    "train_scores_std2 = np.std(train_scores2, axis=1)\n",
    "test_scores_std2 = np.std(test_scores2, axis=1)\n",
    "plt.fill_between(train_sizes2, train_scores_mean2 - train_scores_std2, train_scores_mean2 + train_scores_std2, alpha=0.2, color=\"b\",)\n",
    "plt.fill_between(train_sizes2, test_scores_mean2 - test_scores_std2, test_scores_mean2 + test_scores_std2, alpha=0.2, color=\"c\",)\n",
    "plt.plot(train_sizes2, train_scores_mean2, \"o--\", color=\"b\", label=\"Training score before optimization\")\n",
    "plt.plot(train_sizes2, test_scores_mean2, \"o--\", color=\"c\", label=\"Cross-validation score before optimization\")\n",
    "\n",
    "#plt.rcParams[\"figure.figsize\"] = (18,16)\n",
    "plt.legend(loc=\"best\")\n",
    "plt.show()"
   ]
  },
  {
   "cell_type": "markdown",
   "id": "f84359c0-eb56-492f-9fd8-8c81797d0065",
   "metadata": {},
   "source": [
    "### Видно, что хоть на обучающей выборке качество и упало, но на валидационной оно возрасло по сравнению с предыдущей (до оптимизации).\n",
    "### Однако, сильного прироста в точности это и не дало, мы также смогли уменьшить и стандартное отклонение"
   ]
  },
  {
   "cell_type": "markdown",
   "id": "9cec0faf-0eb3-4f3b-a97d-a3af175418c4",
   "metadata": {},
   "source": [
    "## 2.3 Построим матрицу ошибок и отчет классификации для сравнения с моедлью до оптимизации"
   ]
  },
  {
   "cell_type": "code",
   "execution_count": 64,
   "id": "507e92f3-5ad5-40cf-89d0-9fd6d8f55aa1",
   "metadata": {},
   "outputs": [
    {
     "name": "stdout",
     "output_type": "stream",
     "text": [
      "[[2680   31]\n",
      " [  27 3264]]\n",
      "              precision    recall  f1-score   support\n",
      "\n",
      "           0       0.99      0.99      0.99      2711\n",
      "           1       0.99      0.99      0.99      3291\n",
      "\n",
      "    accuracy                           0.99      6002\n",
      "   macro avg       0.99      0.99      0.99      6002\n",
      "weighted avg       0.99      0.99      0.99      6002\n",
      "\n"
     ]
    },
    {
     "data": {
      "text/plain": [
       "<AxesSubplot:>"
      ]
     },
     "execution_count": 64,
     "metadata": {},
     "output_type": "execute_result"
    },
    {
     "data": {
      "image/png": "[encoded data removed]",
      "text/plain": [
       "<Figure size 432x288 with 2 Axes>"
      ]
     },
     "metadata": {
      "needs_background": "light"
     },
     "output_type": "display_data"
    }
   ],
   "source": [
    "nbrs_lc2.fit(X_train_norm, y_train)\n",
    "nbrs_lc2_pred = nbrs_lc2.predict(X_test_norm)\n",
    "cf_matrix4 = confusion_matrix(y_test, nbrs_lc2_pred)\n",
    "print(cf_matrix4)\n",
    "print(classification_report(y_test, nbrs_lc2_pred))\n",
    "sns.heatmap(cf_matrix4/np.sum(cf_matrix4), annot=True, fmt='.2%', cmap='Blues')"
   ]
  },
  {
   "cell_type": "markdown",
   "id": "1bdc54fb-fa7d-415b-81cd-7f2fbb40da64",
   "metadata": {},
   "source": [
    "# 3 ВЫВОД\n",
    "## Качество улучшилось, так как раньше False Negatives было 0.65% (то есть неправильно негативно классифицированных объектов), а теперь 0.45%. Однако прирост весьма незначителен, что говорит о том, что модель и так была достаточно хороша и в оптимизации не нуждалась."
   ]
  },
  {
   "cell_type": "markdown",
   "id": "8a1db4d7-e316-468d-b545-4bab436d5506",
   "metadata": {},
   "source": [
    "## Все модели сразу показали хорошее качество классификации, однако логистическая с самого начала была чуть лучше остальных."
   ]
  },
  {
   "cell_type": "code",
   "execution_count": null,
   "id": "38b1cd97-8dbe-46ce-9548-5c61ca9289ae",
   "metadata": {},
   "outputs": [],
   "source": []
  }
 ],
 "metadata": {
  "kernelspec": {
   "display_name": "Python 3",
   "language": "python",
   "name": "python3"
  },
  "language_info": {
   "codemirror_mode": {
    "name": "ipython",
    "version": 3
   },
   "file_extension": ".py",
   "mimetype": "text/x-python",
   "name": "python",
   "nbconvert_exporter": "python",
   "pygments_lexer": "ipython3",
   "version": "3.8.8"
  }
 },
 "nbformat": 4,
 "nbformat_minor": 5
}
